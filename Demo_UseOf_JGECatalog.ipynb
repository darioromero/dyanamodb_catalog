{
 "cells": [
  {
   "cell_type": "markdown",
   "metadata": {},
   "source": [
    "# Notebook to Access and Extract DataSets from the DynamoDB JGE Catalog"
   ]
  },
  {
   "cell_type": "markdown",
   "metadata": {},
   "source": [
    "## Load Libraries"
   ]
  },
  {
   "cell_type": "code",
   "execution_count": 1,
   "metadata": {},
   "outputs": [],
   "source": [
    "import pandas as pd\n",
    "# Note: The Notebook must use the environment from ArcGIS Pro\n",
    "#       In particular to be able to use the ArcPy library\n",
    "from catalogs import jge_Catalog as jge\n",
    "from pprint import pprint"
   ]
  },
  {
   "cell_type": "markdown",
   "metadata": {},
   "source": [
    "## Display Settings"
   ]
  },
  {
   "cell_type": "code",
   "execution_count": 2,
   "metadata": {},
   "outputs": [],
   "source": [
    "pd.set_option(\"display.max_colwidth\", 90)\n",
    "pd.set_option(\"display.max_columns\", 10)\n",
    "pd.set_option('expand_frame_repr', True)\n",
    "pd.set_option('display.width', 240)"
   ]
  },
  {
   "cell_type": "markdown",
   "metadata": {},
   "source": [
    "## Instantiate the Catalog"
   ]
  },
  {
   "cell_type": "code",
   "execution_count": 19,
   "metadata": {},
   "outputs": [
    {
     "name": "stdout",
     "output_type": "stream",
     "text": [
      "jge-catalog-test-03\n"
     ]
    }
   ],
   "source": [
    "catalog = jge()  ## it loads by default the table 'jge-catalog-test-03'\n",
    "print(catalog.getCatalogName())"
   ]
  },
  {
   "cell_type": "markdown",
   "metadata": {},
   "source": [
    "## List all existent Features in the Catalog"
   ]
  },
  {
   "cell_type": "code",
   "execution_count": 20,
   "metadata": {},
   "outputs": [
    {
     "data": {
      "text/html": [
       "<div>\n",
       "<style scoped>\n",
       "    .dataframe tbody tr th:only-of-type {\n",
       "        vertical-align: middle;\n",
       "    }\n",
       "\n",
       "    .dataframe tbody tr th {\n",
       "        vertical-align: top;\n",
       "    }\n",
       "\n",
       "    .dataframe thead th {\n",
       "        text-align: right;\n",
       "    }\n",
       "</style>\n",
       "<table border=\"1\" class=\"dataframe\">\n",
       "  <thead>\n",
       "    <tr style=\"text-align: right;\">\n",
       "      <th></th>\n",
       "      <th>feature-name</th>\n",
       "      <th>s3-versionID</th>\n",
       "      <th>feature-type</th>\n",
       "      <th>s3-file-gdb-zip-location</th>\n",
       "    </tr>\n",
       "  </thead>\n",
       "  <tbody>\n",
       "    <tr>\n",
       "      <th>0</th>\n",
       "      <td>GEOL_PorphyryCu_deposits_JGEM</td>\n",
       "      <td>4la81_Iu4yia9He79nGSVUNnR371kNAR</td>\n",
       "      <td>File GeoDatabase Feature Class</td>\n",
       "      <td>s3://jge-catalog-lake/Approved_Data/Cu_Geology/JGE_Template_20201022.gdb.zip</td>\n",
       "    </tr>\n",
       "    <tr>\n",
       "      <th>1</th>\n",
       "      <td>GEOL_Jurassic_Early_Cretaceous_vol_intru_fault_dist_JGEM</td>\n",
       "      <td>UJXoAHMzd2cUfa8dfQY8hAp0dDagIlyP</td>\n",
       "      <td>File GeoDatabase Raster Dataset</td>\n",
       "      <td>s3://jge-catalog-lake/Approved_Data/Pet_Reservoir/JGE_Template_20201026.gdb.zip</td>\n",
       "    </tr>\n",
       "    <tr>\n",
       "      <th>2</th>\n",
       "      <td>GEOL_Carbonate_Reservoir_Prediction_Enhanced_Feature_All_Ages_Mean_JGEM</td>\n",
       "      <td>MvGUP_VSKZGtva5whWafs9gTnt5aO6Sz</td>\n",
       "      <td>File GeoDatabase Raster Dataset</td>\n",
       "      <td>s3://jge-catalog-lake/Approved_Data/Pet_Reservoir/Pet_Reservoir.gdb.zip</td>\n",
       "    </tr>\n",
       "  </tbody>\n",
       "</table>\n",
       "</div>"
      ],
      "text/plain": [
       "                                                              feature-name                      s3-versionID                     feature-type                                                         s3-file-gdb-zip-location\n",
       "0                                            GEOL_PorphyryCu_deposits_JGEM  4la81_Iu4yia9He79nGSVUNnR371kNAR   File GeoDatabase Feature Class     s3://jge-catalog-lake/Approved_Data/Cu_Geology/JGE_Template_20201022.gdb.zip\n",
       "1                 GEOL_Jurassic_Early_Cretaceous_vol_intru_fault_dist_JGEM  UJXoAHMzd2cUfa8dfQY8hAp0dDagIlyP  File GeoDatabase Raster Dataset  s3://jge-catalog-lake/Approved_Data/Pet_Reservoir/JGE_Template_20201026.gdb.zip\n",
       "2  GEOL_Carbonate_Reservoir_Prediction_Enhanced_Feature_All_Ages_Mean_JGEM  MvGUP_VSKZGtva5whWafs9gTnt5aO6Sz  File GeoDatabase Raster Dataset          s3://jge-catalog-lake/Approved_Data/Pet_Reservoir/Pet_Reservoir.gdb.zip"
      ]
     },
     "execution_count": 20,
     "metadata": {},
     "output_type": "execute_result"
    }
   ],
   "source": [
    "# retrieve current features in the catalog\n",
    "df = catalog.getFeatures()\n",
    "df.head()"
   ]
  },
  {
   "cell_type": "markdown",
   "metadata": {},
   "source": [
    "## Dump the Catalog as a JSON document"
   ]
  },
  {
   "cell_type": "code",
   "execution_count": 5,
   "metadata": {},
   "outputs": [],
   "source": [
    "# catalog_entries = catalog.dumps()\n",
    "# for entry in catalog_entries:\n",
    "#     print(120*'-')\n",
    "#     pprint(entry)"
   ]
  },
  {
   "cell_type": "markdown",
   "metadata": {},
   "source": [
    "## Test whether the object exist with that key in the Catalog"
   ]
  },
  {
   "cell_type": "code",
   "execution_count": 6,
   "metadata": {},
   "outputs": [
    {
     "name": "stdout",
     "output_type": "stream",
     "text": [
      "GEOL_PorphyryCu_deposits_JGEM does not exist under the key: i-am-not-the-right-key-btw\n"
     ]
    }
   ],
   "source": [
    "# test -- not registered as a Raster Dataset\n",
    "featureName = 'GEOL_PorphyryCu_deposits_JGEM'\n",
    "versionID = 'i-am-not-the-right-key-btw' # 'NHfZ8v08o5btxcRBAmoroWYi01OVciqC'  # 'dasdfjfhkjsdhflkajhdjlaksh'\n",
    "md = catalog.getMetaData(featureName, versionID)\n",
    "if len(md) != 0:\n",
    "    pprint(md, indent=1)\n",
    "else:\n",
    "    print(f'{featureName} does not exist under the key: {versionID}')"
   ]
  },
  {
   "cell_type": "code",
   "execution_count": 21,
   "metadata": {},
   "outputs": [
    {
     "name": "stdout",
     "output_type": "stream",
     "text": [
      "GEOL_Carbonate_Reservoir_Prediction_Enhanced_Feature_All_Ages_Mean_JGEM does not exist under the key: 4la81_Iu4yia9He79nGSVUNnR371kNAR\n"
     ]
    }
   ],
   "source": [
    "versionID = '4la81_Iu4yia9He79nGSVUNnR371kNAR'\n",
    "md = catalog.getMetaData(featureName, versionID)\n",
    "if len(md) != 0:\n",
    "    pprint(md[0], indent=1)\n",
    "else:\n",
    "    print(f'{featureName} does not exist under the key: {versionID}')"
   ]
  },
  {
   "cell_type": "code",
   "execution_count": 22,
   "metadata": {},
   "outputs": [
    {
     "name": "stdout",
     "output_type": "stream",
     "text": [
      "Feature: GEOL_Carbonate_Reservoir_Prediction_Enhanced_Feature_All_Ages_Mean_JGEM\n",
      "VersionID: MvGUP_VSKZGtva5whWafs9gTnt5aO6Sz\n",
      "{'NodataValue': '-10000000000',\n",
      " 'commodity-type': '',\n",
      " 'critical-process-stage': '',\n",
      " 'feature-group-name': '',\n",
      " 'feature-units': '',\n",
      " 'label-variable-type': '',\n",
      " 'max-abs-age': '',\n",
      " 'min-abs-age': '',\n",
      " 'null-data-reassignment-value': '',\n",
      " 'rotation': '',\n",
      " 'timescale': ''}\n"
     ]
    }
   ],
   "source": [
    "featureName = \\\n",
    "    'GEOL_Carbonate_Reservoir_Prediction_Enhanced_Feature_All_Ages_Mean_JGEM'\n",
    "versionID = 'MvGUP_VSKZGtva5whWafs9gTnt5aO6Sz'\n",
    "md = catalog.getMetaData(featureName, versionID)\n",
    "print(f\"Feature: {featureName}\\nVersionID: {versionID}\")\n",
    "pprint(md[0], indent=1)"
   ]
  },
  {
   "cell_type": "markdown",
   "metadata": {},
   "source": [
    "## Retrieve a Dataset from the Catalog using a versionID (s3-versionId)"
   ]
  },
  {
   "cell_type": "code",
   "execution_count": 23,
   "metadata": {},
   "outputs": [
    {
     "name": "stdout",
     "output_type": "stream",
     "text": [
      "dict_keys(['GEOL_Jurassic_Early_Cretaceous_vol_intru_fault_dist_JGEM', 'GEOL_Carbonate_Reservoir_Prediction_Enhanced_Feature_All_Ages_Mean_JGEM', 'GEOL_PorphyryCu_deposits_JGEM', 'RESO_FISHNET_IHS_Rystad_Discovered_JGEM'])\n"
     ]
    }
   ],
   "source": [
    "ds = catalog.retrieveDataset('4la81_Iu4yia9He79nGSVUNnR371kNAR')\n",
    "print(ds[0].keys())"
   ]
  },
  {
   "cell_type": "markdown",
   "metadata": {},
   "source": [
    "### Get the s3-versionId of the object inside the GDB zipped file on the S3 Bucket"
   ]
  },
  {
   "cell_type": "code",
   "execution_count": 10,
   "metadata": {},
   "outputs": [
    {
     "name": "stdout",
     "output_type": "stream",
     "text": [
      "4la81_Iu4yia9He79nGSVUNnR371kNAR\n"
     ]
    }
   ],
   "source": [
    "print(ds[0]['GEOL_Jurassic_Early_Cretaceous_vol_intru_fault_dist_JGEM']['s3-versionID'])"
   ]
  },
  {
   "cell_type": "markdown",
   "metadata": {},
   "source": [
    "### Get the dictionary & dataset for the individual TIF or SHP"
   ]
  },
  {
   "cell_type": "code",
   "execution_count": 11,
   "metadata": {},
   "outputs": [
    {
     "data": {
      "text/plain": [
       "{'s3-versionID': '4la81_Iu4yia9He79nGSVUNnR371kNAR',\n",
       " 'feature-type': 'Raster Dataset',\n",
       " 'shape': (447, 799),\n",
       " 'columns': [],\n",
       " 'data': [array([[ 5789.29219969,  5789.29219969,  5789.29219969, ...,\n",
       "              0.        ,     0.        ,     0.        ],\n",
       "         [ 5789.29219969,  5789.29219969,  5789.29219969, ...,\n",
       "              0.        ,     0.        ,     0.        ],\n",
       "         [ 5789.29219969,  5789.29219969,  5789.29219969, ...,\n",
       "              0.        ,     0.        ,     0.        ],\n",
       "         ...,\n",
       "         [15022.75839471, 15022.75839471, 15022.75839471, ...,\n",
       "              0.        ,     0.        ,     0.        ],\n",
       "         [15022.75839471, 15022.75839471, 15022.75839471, ...,\n",
       "              0.        ,     0.        ,     0.        ],\n",
       "         [15022.75839471, 15022.75839471, 15022.75839471, ...,\n",
       "              0.        ,     0.        ,     0.        ]])]}"
      ]
     },
     "execution_count": 11,
     "metadata": {},
     "output_type": "execute_result"
    }
   ],
   "source": [
    "ds[0]['GEOL_Jurassic_Early_Cretaceous_vol_intru_fault_dist_JGEM']"
   ]
  },
  {
   "cell_type": "code",
   "execution_count": 12,
   "metadata": {},
   "outputs": [
    {
     "data": {
      "text/plain": [
       "dict_keys(['s3-versionID', 'feature-type', 'shape', 'columns', 'data'])"
      ]
     },
     "execution_count": 12,
     "metadata": {},
     "output_type": "execute_result"
    }
   ],
   "source": [
    "ds[0]['GEOL_PorphyryCu_deposits_JGEM'].keys()"
   ]
  },
  {
   "cell_type": "code",
   "execution_count": 24,
   "metadata": {},
   "outputs": [
    {
     "data": {
      "text/plain": [
       "(747,)"
      ]
     },
     "execution_count": 24,
     "metadata": {},
     "output_type": "execute_result"
    }
   ],
   "source": [
    "ds[0]['GEOL_PorphyryCu_deposits_JGEM']['shape']"
   ]
  },
  {
   "cell_type": "code",
   "execution_count": 14,
   "metadata": {},
   "outputs": [
    {
     "data": {
      "text/plain": [
       "['OBJECTID',\n",
       " 'Shape',\n",
       " 'Date_Last__Published',\n",
       " 'ID_No',\n",
       " 'Deposit_Name',\n",
       " 'Alternative_Name',\n",
       " 'Tier']"
      ]
     },
     "execution_count": 14,
     "metadata": {},
     "output_type": "execute_result"
    }
   ],
   "source": [
    "columns = ds[0]['GEOL_PorphyryCu_deposits_JGEM']['columns']\n",
    "columns[:7]"
   ]
  },
  {
   "cell_type": "code",
   "execution_count": 15,
   "metadata": {},
   "outputs": [
    {
     "data": {
      "text/plain": [
       "array([(745, [ 111.6537,   22.174 ], '2017-09-09T00:00:00.000000', 48560, 'SHILU', '', 4,  22.174 ,  111.6537, '<100m', 'Skarn', '', 'Skarn', 'Moderate', 'Cu,Mo,Ag', 'Copper', 'BASE METAL', '11.343805', '0.916799962622771', '1.39763477875563', 'CHINA', 'China', 'Closed Mine', 'Open Pit', 1961, '1979', '1987', 'Lower Cretaceous', 'Cretaceous', 'Mesozoic', 'Mesozoic', 'Phanerozoic', 105.3, 107.9, '106.6', 'High', '', 28026000., '-', '-', '-', '-', 28026000., 0., 0., 0., 20312879., '-', '-', '-', '-', 11343805., '-', '104000', '23821.9905', '-', '158544.96391422', '1.39763477875563', '-', 104000., '23821.9905', '-'),\n",
       "       (746, [-118.6036,   48.9961], '2018-08-13T00:00:00.000000', 31100, 'LONE STAR', 'Danville', 4,  48.9961, -118.6036, '<100m', 'Porphyry', '', 'Porphyry', 'Moderate', 'Cu,Ag', 'Copper', 'BASE METAL', '7.4', '1.4', '1.4', 'NTH AM', 'United States', 'Undeveloped Deposit', 'Both Open Pit & Underground', 1897, '', '', 'Eocene', 'Paleogene', 'Cenozoic', 'Cenozoic', 'Phanerozoic',  48. ,  57. , '52.5', 'High', 'Singer et al., 2008', 28026000., '-', '-', '-', '-', 28026000., 0., 0., 0., 20312879., '-', '-', '-', '-',  7400000., '-', '103600', '-', '-', '103600', '1.4', '-', 103600., '-', '-'),\n",
       "       (747, [ 151.851 ,  -25.641 ], '2016-01-22T00:00:00.000000',   753, 'COALSTOUN', '', 4, -25.641 ,  151.851 , '100-500m', 'Porphyry', '', 'Porphyry', 'Moderate', 'Cu,Au', 'Copper', 'BASE METAL', '26.86', '0.382267311988086', '0.382267311988086', 'AUST', 'Australia', 'Advanced Exploration', 'Open Pit', 1967, '', '', 'Upper Triassic', 'Triassic', 'Mesozoic', 'Mesozoic', 'Phanerozoic',  48. ,  57. , '235', 'Medium', 'Singer et al., 2008', 28026000., '-', '-', '-', '-', 28026000., 0., 0., 0., 20312879., '-', '-', '-', '-', 26860000., '-', '102677', '-', '-', '102677', '0.382267311988086', '-', 102677., '-', '-')],\n",
       "      dtype=[('OBJECTID', '<i4'), ('Shape', '<f8', (2,)), ('Date_Last__Published', '<M8[us]'), ('ID_No', '<i4'), ('Deposit_Name', '<U255'), ('Alternative_Name', '<U255'), ('Tier', '<i4'), ('Latitude', '<f8'), ('Longitude', '<f8'), ('Accuracy', '<U255'), ('Deposit_Type', '<U255'), ('Deposit_Subtype', '<U255'), ('Deposit_Type__Simplified_', '<U255'), ('Size', '<U255'), ('Contained__Commodities', '<U255'), ('Primary__Metal', '<U255'), ('Class', '<U255'), ('Pre_mined_Resource_Cu_Eq_Mt_ore', '<U255'), ('Pre_mined___Cu', '<U255'), ('Pre_mined___Cu_eq', '<U255'), ('Region', '<U255'), ('Country', '<U255'), ('Current_Status', '<U255'), ('Mining_Method', '<U255'), ('Discovery__Year', '<i4'), ('Mine__Startup_Year', '<U255'), ('Mine_Shutdown_Year', '<U255'), ('Epoch', '<U255'), ('Period', '<U255'), ('Era', '<U255'), ('Era_Simplified', '<U255'), ('Eon', '<U255'), ('Age_Min__Ma_', '<f8'), ('Age__Max__Ma_', '<f8'), ('Average__Age__Ma_', '<U255'), ('Age__Confidence', '<U255'), ('Age_Source', '<U416'), ('Historic_Production__In_Situ__Ore_Tonnes', '<f8'), ('Historic_Production__In_Situ__Gold_oz', '<U255'), ('Historic_Production__In_Situ__Copper__t', '<U255'), ('Historic_Production__In_Situ__Moly_t', '<U255'), ('Historic_Production__In_Situ__Cobalt_t', '<U255'), ('Historic_Production__Recovered__Ore_Tonnes', '<f8'), ('Historic_Production__Recovered__Gold_oz', '<f8'), ('Historic_Production__Recovered__Copper_t', '<f8'), ('Historic_Production__Recovered__Cobalt_t', '<f8'), ('Current_Reserves_Ore_Tonnes', '<f8'), ('Current_Reserves_Gold_oz', '<U255'), ('Current_Reserves_Copper_t', '<U255'), ('Current_Reserves_Moly_t', '<U255'), ('Current_Reserves_Cobalt_t', '<U255'), ('Current_Resource_Ore_Tonnes', '<f8'), ('Current_Resource_Gold_oz', '<U255'), ('Current_Resource_Copper_t', '<U255'), ('Current_Resource_Moly_t', '<U255'), ('Current_Resource_Cobalt_t', '<U255'), ('Pre_Mine_CONTAINED_METAL_Tonnes__of_Cu_eq', '<U255'), ('Pre_Mine_GRADE_Cu_eq_t', '<U255'), ('Pre_Mine_Gold_oz', '<U255'), ('Pre_Mine_Copper_t', '<f8'), ('Pre_Mine_Moly_t', '<U255'), ('Pre_Mine_Cobalt_t', '<U255')])"
      ]
     },
     "execution_count": 15,
     "metadata": {},
     "output_type": "execute_result"
    }
   ],
   "source": [
    "ds[0]['GEOL_PorphyryCu_deposits_JGEM']['data'][0][-3:]"
   ]
  },
  {
   "cell_type": "code",
   "execution_count": 16,
   "metadata": {},
   "outputs": [
    {
     "data": {
      "text/plain": [
       "[(743, [126.066,   7.48 ], '2009-07-27T00:00:00.000000', 405, 'SABENA-TAGPURA', 'Also see nearby Sabena-Batoto, also nearby Maangob, Kalmatan / Kalamantan porphyries', 4, 7.48, 126.066, '1-5km', 'Porphyry', '', 'Porphyry', 'Moderate', 'Cu,Au,Ag', 'Copper', 'BASE METAL', '28.026', '0.387005', '0.528995649271795', 'PAC / SEA', 'Philippines', 'Closed Mine', 'Open Pit', 1969, '1979', '1981', '', 'Neogene', 'Cenozoic', 'Cenozoic', 'Phanerozoic', 2.58, 23.03, '12.805', 'Low', '', 28026000., '187068.980793838', '108462.0213', '-', '-', 28026000., 187076., 108462., 0., 20312879., '-', '-', '-', '-', 3500000., '-', '-', '-', '-', '148256.320664913', '0.528995649271795', '187068.980793838', 108462.0213, '-', '-'),\n",
       " (744, [-126.7142,   57.2122], '2013-10-28T00:00:00.000000', 45871, 'PINE', 'Fin Prospect', 4, 57.2122, -126.7142, '100-500m', 'Porphyry', '', 'Porphyry', 'Major', 'Au,Cu,Zn', 'Gold', 'GOLD', '70', '0.15', '0.664809497502489', 'NTH AM', 'Canada', 'Undeveloped Deposit', 'Open Pit', 1968, '', '', 'Lower Jurassic', 'Jurassic', 'Mesozoic', 'Mesozoic', 'Phanerozoic', 193.1, 204.9, '199', 'Medium', 'Singer et al., 2008', 28026000., '-', '-', '-', '-', 28026000., 0., 0., 0., 20312879., '-', '-', '-', '-', 70000000., '1282768.46511448', '105000', '-', '-', '465366.648251742', '0.664809497502489', '1282768.46511448', 105000., '-', '-'),\n",
       " (745, [111.6537,  22.174 ], '2017-09-09T00:00:00.000000', 48560, 'SHILU', '', 4, 22.174, 111.6537, '<100m', 'Skarn', '', 'Skarn', 'Moderate', 'Cu,Mo,Ag', 'Copper', 'BASE METAL', '11.343805', '0.916799962622771', '1.39763477875563', 'CHINA', 'China', 'Closed Mine', 'Open Pit', 1961, '1979', '1987', 'Lower Cretaceous', 'Cretaceous', 'Mesozoic', 'Mesozoic', 'Phanerozoic', 105.3, 107.9, '106.6', 'High', '', 28026000., '-', '-', '-', '-', 28026000., 0., 0., 0., 20312879., '-', '-', '-', '-', 11343805., '-', '104000', '23821.9905', '-', '158544.96391422', '1.39763477875563', '-', 104000., '23821.9905', '-'),\n",
       " (746, [-118.6036,   48.9961], '2018-08-13T00:00:00.000000', 31100, 'LONE STAR', 'Danville', 4, 48.9961, -118.6036, '<100m', 'Porphyry', '', 'Porphyry', 'Moderate', 'Cu,Ag', 'Copper', 'BASE METAL', '7.4', '1.4', '1.4', 'NTH AM', 'United States', 'Undeveloped Deposit', 'Both Open Pit & Underground', 1897, '', '', 'Eocene', 'Paleogene', 'Cenozoic', 'Cenozoic', 'Phanerozoic', 48., 57., '52.5', 'High', 'Singer et al., 2008', 28026000., '-', '-', '-', '-', 28026000., 0., 0., 0., 20312879., '-', '-', '-', '-', 7400000., '-', '103600', '-', '-', '103600', '1.4', '-', 103600., '-', '-'),\n",
       " (747, [151.851, -25.641], '2016-01-22T00:00:00.000000', 753, 'COALSTOUN', '', 4, -25.641, 151.851, '100-500m', 'Porphyry', '', 'Porphyry', 'Moderate', 'Cu,Au', 'Copper', 'BASE METAL', '26.86', '0.382267311988086', '0.382267311988086', 'AUST', 'Australia', 'Advanced Exploration', 'Open Pit', 1967, '', '', 'Upper Triassic', 'Triassic', 'Mesozoic', 'Mesozoic', 'Phanerozoic', 48., 57., '235', 'Medium', 'Singer et al., 2008', 28026000., '-', '-', '-', '-', 28026000., 0., 0., 0., 20312879., '-', '-', '-', '-', 26860000., '-', '102677', '-', '-', '102677', '0.382267311988086', '-', 102677., '-', '-')]"
      ]
     },
     "execution_count": 16,
     "metadata": {},
     "output_type": "execute_result"
    }
   ],
   "source": [
    "data = list(ds[0]['GEOL_PorphyryCu_deposits_JGEM']['data'][0][-5:])\n",
    "data"
   ]
  },
  {
   "cell_type": "code",
   "execution_count": 17,
   "metadata": {},
   "outputs": [
    {
     "data": {
      "text/html": [
       "<div>\n",
       "<style scoped>\n",
       "    .dataframe tbody tr th:only-of-type {\n",
       "        vertical-align: middle;\n",
       "    }\n",
       "\n",
       "    .dataframe tbody tr th {\n",
       "        vertical-align: top;\n",
       "    }\n",
       "\n",
       "    .dataframe thead th {\n",
       "        text-align: right;\n",
       "    }\n",
       "</style>\n",
       "<table border=\"1\" class=\"dataframe\">\n",
       "  <thead>\n",
       "    <tr style=\"text-align: right;\">\n",
       "      <th></th>\n",
       "      <th>OBJECTID</th>\n",
       "      <th>Shape</th>\n",
       "      <th>Date_Last__Published</th>\n",
       "      <th>ID_No</th>\n",
       "      <th>Deposit_Name</th>\n",
       "      <th>...</th>\n",
       "      <th>Pre_Mine_GRADE_Cu_eq_t</th>\n",
       "      <th>Pre_Mine_Gold_oz</th>\n",
       "      <th>Pre_Mine_Copper_t</th>\n",
       "      <th>Pre_Mine_Moly_t</th>\n",
       "      <th>Pre_Mine_Cobalt_t</th>\n",
       "    </tr>\n",
       "  </thead>\n",
       "  <tbody>\n",
       "    <tr>\n",
       "      <th>0</th>\n",
       "      <td>743</td>\n",
       "      <td>[126.06600000000003, 7.480000000000075]</td>\n",
       "      <td>2009-07-27</td>\n",
       "      <td>405</td>\n",
       "      <td>SABENA-TAGPURA</td>\n",
       "      <td>...</td>\n",
       "      <td>0.528995649271795</td>\n",
       "      <td>187068.980793838</td>\n",
       "      <td>108462.0213</td>\n",
       "      <td>-</td>\n",
       "      <td>-</td>\n",
       "    </tr>\n",
       "    <tr>\n",
       "      <th>1</th>\n",
       "      <td>744</td>\n",
       "      <td>[-126.71419999999995, 57.21220000000005]</td>\n",
       "      <td>2013-10-28</td>\n",
       "      <td>45871</td>\n",
       "      <td>PINE</td>\n",
       "      <td>...</td>\n",
       "      <td>0.664809497502489</td>\n",
       "      <td>1282768.46511448</td>\n",
       "      <td>105000.0000</td>\n",
       "      <td>-</td>\n",
       "      <td>-</td>\n",
       "    </tr>\n",
       "    <tr>\n",
       "      <th>2</th>\n",
       "      <td>745</td>\n",
       "      <td>[111.65370000000007, 22.174000000000035]</td>\n",
       "      <td>2017-09-09</td>\n",
       "      <td>48560</td>\n",
       "      <td>SHILU</td>\n",
       "      <td>...</td>\n",
       "      <td>1.39763477875563</td>\n",
       "      <td>-</td>\n",
       "      <td>104000.0000</td>\n",
       "      <td>23821.9905</td>\n",
       "      <td>-</td>\n",
       "    </tr>\n",
       "    <tr>\n",
       "      <th>3</th>\n",
       "      <td>746</td>\n",
       "      <td>[-118.60359999999997, 48.99610000000007]</td>\n",
       "      <td>2018-08-13</td>\n",
       "      <td>31100</td>\n",
       "      <td>LONE STAR</td>\n",
       "      <td>...</td>\n",
       "      <td>1.4</td>\n",
       "      <td>-</td>\n",
       "      <td>103600.0000</td>\n",
       "      <td>-</td>\n",
       "      <td>-</td>\n",
       "    </tr>\n",
       "    <tr>\n",
       "      <th>4</th>\n",
       "      <td>747</td>\n",
       "      <td>[151.8510000000001, -25.640999999999963]</td>\n",
       "      <td>2016-01-22</td>\n",
       "      <td>753</td>\n",
       "      <td>COALSTOUN</td>\n",
       "      <td>...</td>\n",
       "      <td>0.382267311988086</td>\n",
       "      <td>-</td>\n",
       "      <td>102677.0000</td>\n",
       "      <td>-</td>\n",
       "      <td>-</td>\n",
       "    </tr>\n",
       "  </tbody>\n",
       "</table>\n",
       "<p>5 rows × 62 columns</p>\n",
       "</div>"
      ],
      "text/plain": [
       "   OBJECTID                                     Shape Date_Last__Published  ID_No    Deposit_Name  ... Pre_Mine_GRADE_Cu_eq_t  Pre_Mine_Gold_oz  Pre_Mine_Copper_t  Pre_Mine_Moly_t Pre_Mine_Cobalt_t\n",
       "0       743   [126.06600000000003, 7.480000000000075]           2009-07-27    405  SABENA-TAGPURA  ...      0.528995649271795  187068.980793838        108462.0213                -                 -\n",
       "1       744  [-126.71419999999995, 57.21220000000005]           2013-10-28  45871            PINE  ...      0.664809497502489  1282768.46511448        105000.0000                -                 -\n",
       "2       745  [111.65370000000007, 22.174000000000035]           2017-09-09  48560           SHILU  ...       1.39763477875563                 -        104000.0000       23821.9905                 -\n",
       "3       746  [-118.60359999999997, 48.99610000000007]           2018-08-13  31100       LONE STAR  ...                    1.4                 -        103600.0000                -                 -\n",
       "4       747  [151.8510000000001, -25.640999999999963]           2016-01-22    753       COALSTOUN  ...      0.382267311988086                 -        102677.0000                -                 -\n",
       "\n",
       "[5 rows x 62 columns]"
      ]
     },
     "execution_count": 17,
     "metadata": {},
     "output_type": "execute_result"
    }
   ],
   "source": [
    "# create DataFrame using data \n",
    "df = pd.DataFrame.from_records(data, columns=columns)\n",
    "df.head()"
   ]
  }
 ],
 "metadata": {
  "kernelspec": {
   "display_name": "arcgispro-romeda",
   "language": "python",
   "name": "arcgispro-romeda"
  },
  "language_info": {
   "codemirror_mode": {
    "name": "ipython",
    "version": 3
   },
   "file_extension": ".py",
   "mimetype": "text/x-python",
   "name": "python",
   "nbconvert_exporter": "python",
   "pygments_lexer": "ipython3",
   "version": "3.6.10"
  }
 },
 "nbformat": 4,
 "nbformat_minor": 4
}
